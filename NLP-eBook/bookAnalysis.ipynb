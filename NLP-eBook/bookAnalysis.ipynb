{
 "cells": [
  {
   "cell_type": "markdown",
   "id": "a81f2431-0f7c-4096-a722-d048e8e30cc2",
   "metadata": {},
   "source": [
    "# Load the Book"
   ]
  },
  {
   "cell_type": "code",
   "execution_count": 1,
   "id": "88923105-1771-4d64-9050-ebcbc8a970b4",
   "metadata": {},
   "outputs": [],
   "source": [
    "import pandas as pd"
   ]
  },
  {
   "cell_type": "code",
   "execution_count": 2,
   "id": "d4cb8598-8fe5-46ba-9023-42cc21790d41",
   "metadata": {},
   "outputs": [],
   "source": [
    "with open(\"miracle_in_the_andes.txt\",\"r\", encoding=\"UTF-8\") as file:\n",
    "    book = file.read()"
   ]
  },
  {
   "cell_type": "code",
   "execution_count": 3,
   "id": "f4e1727a-be44-4ab0-96fd-94c58bea8774",
   "metadata": {},
   "outputs": [
    {
     "data": {
      "text/plain": [
       "str"
      ]
     },
     "execution_count": 3,
     "metadata": {},
     "output_type": "execute_result"
    }
   ],
   "source": [
    "type(book)"
   ]
  },
  {
   "cell_type": "markdown",
   "id": "f32eb71d-76e5-4c43-980e-de621ccc5ea4",
   "metadata": {
    "jp-MarkdownHeadingCollapsed": true
   },
   "source": [
    "# How many Chapters?"
   ]
  },
  {
   "cell_type": "code",
   "execution_count": 4,
   "id": "c40ab191-c07f-4258-8d53-6444de015295",
   "metadata": {},
   "outputs": [
    {
     "data": {
      "text/plain": [
       "11"
      ]
     },
     "execution_count": 4,
     "metadata": {},
     "output_type": "execute_result"
    }
   ],
   "source": [
    "book.count(\"Chapter\")"
   ]
  },
  {
   "cell_type": "markdown",
   "id": "3c70c126-9fbc-4aea-9ffd-ecbf8c5029a3",
   "metadata": {
    "jp-MarkdownHeadingCollapsed": true
   },
   "source": [
    "## With regex"
   ]
  },
  {
   "cell_type": "code",
   "execution_count": 5,
   "id": "b32b26ba-19f7-48a9-abbf-62835cab3c13",
   "metadata": {},
   "outputs": [],
   "source": [
    "import re"
   ]
  },
  {
   "cell_type": "code",
   "execution_count": 6,
   "id": "7a4ac41e-0773-4a6b-b0a1-50f895a22692",
   "metadata": {},
   "outputs": [
    {
     "data": {
      "text/plain": [
       "10"
      ]
     },
     "execution_count": 6,
     "metadata": {},
     "output_type": "execute_result"
    }
   ],
   "source": [
    "pattern = re.compile(\"Chapter [0-9]+\")\n",
    "chapters_Count = len(re.findall(pattern, book))\n",
    "chapters_Count"
   ]
  },
  {
   "cell_type": "markdown",
   "id": "ed938298-04d7-4e5a-bc12-821f66432fbf",
   "metadata": {
    "jp-MarkdownHeadingCollapsed": true
   },
   "source": [
    "# Which sentences where word \"love\" used?"
   ]
  },
  {
   "cell_type": "code",
   "execution_count": 13,
   "id": "97ca846f-f359-404e-9a7c-a37da4f85b99",
   "metadata": {},
   "outputs": [],
   "source": [
    "pattern = re.compile(\"[A-Z]{1}[^.]*[^a-zA-Z]+love[^a-zA-Z][^.]*.\")\n",
    "findings = re.findall(pattern, book)"
   ]
  },
  {
   "cell_type": "code",
   "execution_count": null,
   "id": "ccab553b-1292-40c5-bf37-a76ed064b5fd",
   "metadata": {},
   "outputs": [],
   "source": []
  },
  {
   "cell_type": "markdown",
   "id": "15eb629f-9f7c-4731-8f77-f5e9d8b49559",
   "metadata": {},
   "source": [
    "# Most used words?"
   ]
  },
  {
   "cell_type": "code",
   "execution_count": 9,
   "id": "05347cc2-9213-48ad-a6e2-8c4bee443931",
   "metadata": {},
   "outputs": [
    {
     "data": {
      "text/plain": [
       "['chapter',\n",
       " 'before',\n",
       " 'it',\n",
       " 'was',\n",
       " 'friday',\n",
       " 'the',\n",
       " 'thirteenth',\n",
       " 'of',\n",
       " 'october',\n",
       " 'we']"
      ]
     },
     "execution_count": 9,
     "metadata": {},
     "output_type": "execute_result"
    }
   ],
   "source": [
    "pattern = re.compile(\"[a-zA-Z]+\")\n",
    "findings = re.findall(pattern, book.lower())\n",
    "findings[:10]"
   ]
  },
  {
   "cell_type": "code",
   "execution_count": 10,
   "id": "366d5975-2182-4c63-8473-b75976ba7993",
   "metadata": {},
   "outputs": [],
   "source": [
    "d = {}\n",
    "for word in findings:\n",
    "    if word in d.keys():\n",
    "        d[word] = d[word] + 1\n",
    "    else:\n",
    "        d[word] = 1"
   ]
  },
  {
   "cell_type": "code",
   "execution_count": null,
   "id": "10b20b74-6ce1-4925-b63f-f31051160a4f",
   "metadata": {},
   "outputs": [],
   "source": []
  },
  {
   "cell_type": "code",
   "execution_count": 15,
   "id": "78a7311c-29e8-46cf-bd48-b6f8808e405d",
   "metadata": {},
   "outputs": [],
   "source": [
    "d_list = [(value, key) for (key, value) in d.items()]\n",
    "d_list=sorted(d_list, reverse = True)"
   ]
  },
  {
   "cell_type": "markdown",
   "id": "1b7d137c-0aa8-40e6-a5b4-d25ac4a5d5cf",
   "metadata": {
    "jp-MarkdownHeadingCollapsed": true
   },
   "source": [
    "# Paragraph where \"Love\" word used?"
   ]
  },
  {
   "cell_type": "code",
   "execution_count": 16,
   "id": "c020471d-2d1a-49c7-a531-67d068b31fdc",
   "metadata": {},
   "outputs": [
    {
     "data": {
      "text/plain": [
       "['To me, this is the essence of rugby. No other sport gives you such an intense sense of selflessness and unified purpose. I believe this is why rugby players all over the world feel such a passion for the game and such a feeling of brotherhood. As a young man, of course, I could not put these things into words, but I knew, and my teammates knew, that there was something special about the game, and under the guidance of the Christian Brothers we developed a passionate love for the sport that shaped our friendships and our lives. For eight years we played our hearts out for the Christian Brothers—a brotherhood of young boys with Latin names, playing a game with deep Anglo roots under Uruguay’s sunny skies, and proudly wearing the bright green shamrock on our uniforms. The game became so much a part of our lives, in fact, that when we graduated from Stella Maris at the age of sixteen, many of us could not bear the thought that our playing days were over. Our salvation came in the form of the Old Christians Club, a private rugby team formed in 1965 by previous alumni of the Stella Maris rugby program to give Stella Maris ruggers a chance to continue playing the game after our school years ended.',\n",
       " 'There were others—Alexis Hounie, Gastón Costemalle, Daniel Shaw—all of them great players and all of them my friends. But my oldest friend was Guido Magri. He and I had met on my first day at the Stella Maris School—I was eight years old and Guido was one year older—and we had been inseparable ever since. Guido and I grew up together, playing soccer and sharing a love of motorcycles, cars, and auto racing. When I was fifteen we both had mopeds that we had modified in silly ways—removing the mufflers, turn signals, and fenders—and we would ride them to Las Delicias, a famous ice cream parlor in our neighborhood, where we would drool over the girls from the nearby School Sagrado Corazón, hoping to impress them with our souped-up scooters. Guido was a dependable friend, with a good sense of humor and an easy laugh. He was also an outstanding scrum half, as quick and smart as a fox, with good hands and great courage. Under the guidance of the Christian Brothers, both of us grew to love the game of rugby with a consuming passion. As seasons passed we worked hard to improve our skills, and by the time I was fifteen we had each earned a spot on the Stella Maris First XV, the team’s starting lineup. After graduation, both of us went on to join the Old Christians and spent several happy seasons pursuing the high-octane social life of young rugby players. That rowdiness came to an abrupt end for Guido in 1969, when he met and fell in love with the beautiful daughter of a Chilean diplomat. She was now his fiancée, and he was happy to behave himself for her sake.']"
      ]
     },
     "execution_count": 16,
     "metadata": {},
     "output_type": "execute_result"
    }
   ],
   "source": [
    "import re\n",
    "pattern = re.compile(\"[^\\n]+love[^\\n]+\")\n",
    "findings = re.findall(pattern, book)\n",
    "findings[:2]"
   ]
  },
  {
   "cell_type": "markdown",
   "id": "e3aef23c-12ef-4148-852a-1396661ace0a",
   "metadata": {},
   "source": [
    "# Getting titles"
   ]
  },
  {
   "cell_type": "code",
   "execution_count": 19,
   "id": "ee416ae9-91bf-4513-b19b-5657bccdf611",
   "metadata": {},
   "outputs": [
    {
     "data": {
      "text/plain": [
       "['Before',\n",
       " 'Everything Precious',\n",
       " 'A Promise',\n",
       " 'Breathe Once More',\n",
       " 'Abandoned',\n",
       " 'Tomb',\n",
       " 'East',\n",
       " 'The Opposite of Death',\n",
       " 'I See a Man',\n",
       " 'After']"
      ]
     },
     "execution_count": 19,
     "metadata": {},
     "output_type": "execute_result"
    }
   ],
   "source": [
    "pattern = re.compile(\"[a-zA-Z ,]+\\n\\n\")\n",
    "findings = re.findall(pattern,book)\n",
    "findings = [item.strip(\"\\n\\n\") for item in findings]\n",
    "findings"
   ]
  },
  {
   "cell_type": "markdown",
   "id": "02c775fa-af00-4d10-af17-ce34076c8a10",
   "metadata": {},
   "source": [
    "## Method 2"
   ]
  },
  {
   "cell_type": "code",
   "execution_count": 20,
   "id": "8c1bec72-c301-4d50-80ff-ff03ff07d561",
   "metadata": {},
   "outputs": [
    {
     "data": {
      "text/plain": [
       "['Before',\n",
       " 'Everything Precious',\n",
       " 'A Promise',\n",
       " 'Breathe Once More',\n",
       " 'Abandoned',\n",
       " 'Tomb',\n",
       " 'East',\n",
       " 'The Opposite of Death',\n",
       " 'I See a Man',\n",
       " 'After']"
      ]
     },
     "execution_count": 20,
     "metadata": {},
     "output_type": "execute_result"
    }
   ],
   "source": [
    "pattern = re.compile(\"([a-zA-Z ]+)\\n\\n\")\n",
    "findings = re.findall(pattern,book)\n",
    "findings"
   ]
  },
  {
   "cell_type": "code",
   "execution_count": null,
   "id": "e0c434f5-3072-4ee2-b6c7-a737da7053f0",
   "metadata": {},
   "outputs": [],
   "source": []
  }
 ],
 "metadata": {
  "kernelspec": {
   "display_name": "Python 3 (ipykernel)",
   "language": "python",
   "name": "python3"
  },
  "language_info": {
   "codemirror_mode": {
    "name": "ipython",
    "version": 3
   },
   "file_extension": ".py",
   "mimetype": "text/x-python",
   "name": "python",
   "nbconvert_exporter": "python",
   "pygments_lexer": "ipython3",
   "version": "3.12.1"
  }
 },
 "nbformat": 4,
 "nbformat_minor": 5
}
